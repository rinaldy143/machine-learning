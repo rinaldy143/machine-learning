{
  "nbformat": 4,
  "nbformat_minor": 0,
  "metadata": {
    "colab": {
      "provenance": [],
      "authorship_tag": "ABX9TyOdmNS+eOfZE6SFa2cYqf2w",
      "include_colab_link": true
    },
    "kernelspec": {
      "name": "python3",
      "display_name": "Python 3"
    },
    "language_info": {
      "name": "python"
    }
  },
  "cells": [
    {
      "cell_type": "markdown",
      "metadata": {
        "id": "view-in-github",
        "colab_type": "text"
      },
      "source": [
        "<a href=\"https://colab.research.google.com/github/rinaldy143/machine-learning/blob/master/Pengenalan_Python.ipynb\" target=\"_parent\"><img src=\"https://colab.research.google.com/assets/colab-badge.svg\" alt=\"Open In Colab\"/></a>"
      ]
    },
    {
      "cell_type": "code",
      "metadata": {
        "id": "o7m8uSb2_br8",
        "colab": {
          "base_uri": "https://localhost:8080/"
        },
        "outputId": "518fee3f-84fb-4441-8d41-b01805f56618"
      },
      "source": [
        "print (\"hello world\")"
      ],
      "execution_count": 1,
      "outputs": [
        {
          "output_type": "stream",
          "name": "stdout",
          "text": [
            "hello world\n"
          ]
        }
      ]
    },
    {
      "cell_type": "code",
      "metadata": {
        "colab": {
          "base_uri": "https://localhost:8080/"
        },
        "id": "oAQNxWw2GYf-",
        "outputId": "42c8148a-7f5b-4792-f448-893c6477b95e"
      },
      "source": [
        "from google.colab import drive\n",
        "drive.mount('/content/gdrive')"
      ],
      "execution_count": 3,
      "outputs": [
        {
          "output_type": "stream",
          "name": "stdout",
          "text": [
            "Mounted at /content/gdrive\n"
          ]
        }
      ]
    },
    {
      "cell_type": "code",
      "metadata": {
        "id": "J3y34Me0IES8"
      },
      "source": [
        "variabel_ku = \"ini apa ya\"\n",
        "variabel2= 20"
      ],
      "execution_count": 4,
      "outputs": []
    },
    {
      "cell_type": "code",
      "metadata": {
        "colab": {
          "base_uri": "https://localhost:8080/"
        },
        "id": "9d7ZrdhjIMZl",
        "outputId": "aef8a7cc-3931-4180-edc3-71ef9a75be85"
      },
      "source": [
        "print(variabel_ku)\n",
        "print(variabel2)"
      ],
      "execution_count": 5,
      "outputs": [
        {
          "output_type": "stream",
          "name": "stdout",
          "text": [
            "ini apa ya\n",
            "20\n"
          ]
        }
      ]
    },
    {
      "cell_type": "code",
      "metadata": {
        "colab": {
          "base_uri": "https://localhost:8080/"
        },
        "id": "iwkUGDGbIT-q",
        "outputId": "081233fd-fea1-4343-e4e7-ab31dff9193e"
      },
      "source": [
        "type(variabel_ku)\n"
      ],
      "execution_count": null,
      "outputs": [
        {
          "output_type": "execute_result",
          "data": {
            "text/plain": [
              "str"
            ]
          },
          "metadata": {},
          "execution_count": 7
        }
      ]
    },
    {
      "cell_type": "code",
      "metadata": {
        "id": "_oqd-VPsIfTU"
      },
      "source": [
        "#menghapus variabel\n",
        "nama = \"rinaldi\"\n",
        "\n",
        "del(nama)"
      ],
      "execution_count": null,
      "outputs": []
    },
    {
      "cell_type": "code",
      "metadata": {
        "colab": {
          "base_uri": "https://localhost:8080/"
        },
        "id": "vz40Oef2IfUP",
        "outputId": "509217d9-3864-47ce-8214-b19fdd54a813"
      },
      "source": [
        "nama_ku = \"rinaldi\"\n",
        "usia = 21\n",
        "tinggi = 175\n",
        "type(usia)"
      ],
      "execution_count": null,
      "outputs": [
        {
          "output_type": "execute_result",
          "data": {
            "text/plain": [
              "int"
            ]
          },
          "metadata": {},
          "execution_count": 16
        }
      ]
    },
    {
      "cell_type": "code",
      "metadata": {
        "colab": {
          "base_uri": "https://localhost:8080/"
        },
        "id": "IXYRBvAjJy5J",
        "outputId": "356299c5-a3b7-4e01-f236-fc42a72dcc3a"
      },
      "source": [
        "panjang = 5\n",
        "lebar = 2\n",
        "luas = panjang * lebar\n",
        "print(luas)"
      ],
      "execution_count": null,
      "outputs": [
        {
          "output_type": "stream",
          "name": "stdout",
          "text": [
            "10\n"
          ]
        }
      ]
    },
    {
      "cell_type": "code",
      "metadata": {
        "colab": {
          "base_uri": "https://localhost:8080/"
        },
        "id": "BjGnkpYXKDCB",
        "outputId": "e0874b83-6e7d-4fff-884b-084e5b4c4760"
      },
      "source": [
        "namaDepan = \"Rinaldi\"\n",
        "namaBelakang = \"Oktarinanda\"\n",
        "nama = namaDepan + \" \" + namaBelakang\n",
        "umur = 21\n",
        "hobi = \"nonton\"\n",
        "print(\"Biodata\\n\", nama, \"\\n\", hobi, \"\\n\", umur)"
      ],
      "execution_count": null,
      "outputs": [
        {
          "output_type": "stream",
          "name": "stdout",
          "text": [
            "Biodata\n",
            " Rinaldi Oktarinanda \n",
            " nonton \n",
            " 21\n"
          ]
        }
      ]
    },
    {
      "cell_type": "code",
      "metadata": {
        "colab": {
          "base_uri": "https://localhost:8080/"
        },
        "id": "9amKLd8pKftJ",
        "outputId": "eb6449d8-8256-425d-8f45-139534417841"
      },
      "source": [
        "11 % 2"
      ],
      "execution_count": null,
      "outputs": [
        {
          "output_type": "execute_result",
          "data": {
            "text/plain": [
              "1"
            ]
          },
          "metadata": {},
          "execution_count": 23
        }
      ]
    },
    {
      "cell_type": "code",
      "metadata": {
        "colab": {
          "base_uri": "https://localhost:8080/"
        },
        "id": "oUWmCDC9LPI6",
        "outputId": "99b2425a-05fc-4d6e-e5db-5a535b290a8e"
      },
      "source": [
        "a, b = 5, 10\n",
        "\n",
        "print(a, '>',b, '=', a > b)\n",
        "print(a, '<',b, '=', a < b)\n",
        "print(a, '==',b, '=', a == b)\n",
        "print(a, '!=',b, '=', a != b)\n",
        "print(a, '>=',b, '=', a >= b)\n",
        "print(a, '<=',b, '=', a <= b)"
      ],
      "execution_count": null,
      "outputs": [
        {
          "output_type": "stream",
          "name": "stdout",
          "text": [
            "5 > 10 = False\n",
            "5 < 10 = True\n",
            "5 == 10 = False\n",
            "5 != 10 = True\n",
            "5 >= 10 = False\n",
            "5 <= 10 = True\n"
          ]
        }
      ]
    },
    {
      "cell_type": "code",
      "metadata": {
        "colab": {
          "base_uri": "https://localhost:8080/"
        },
        "id": "xfsm0ucALt05",
        "outputId": "54dd2956-3e08-4d4b-f5e0-b3b0a83d1886"
      },
      "source": [
        "a = 10\n",
        "print('a = 10 - >', a)\n",
        "a += 3\n",
        "print('a += 10 - >', a)"
      ],
      "execution_count": null,
      "outputs": [
        {
          "output_type": "stream",
          "name": "stdout",
          "text": [
            "a = 10 - > 10\n",
            "a += 10 - > 13\n"
          ]
        }
      ]
    },
    {
      "cell_type": "code",
      "metadata": {
        "colab": {
          "base_uri": "https://localhost:8080/"
        },
        "id": "wD--Eb2aMXu6",
        "outputId": "c42134f8-6e42-40dc-ee04-c37ef9d28e85"
      },
      "source": [
        "a = 5\n",
        "b = 2\n",
        "list_a = [1, 2,3]\n",
        "name_a = 'budi'\n",
        "\n",
        "print ('a is not b', a is not b)"
      ],
      "execution_count": null,
      "outputs": [
        {
          "output_type": "stream",
          "name": "stdout",
          "text": [
            "a is not b True\n"
          ]
        }
      ]
    },
    {
      "cell_type": "code",
      "metadata": {
        "colab": {
          "base_uri": "https://localhost:8080/"
        },
        "id": "ai9AOBzpOFM6",
        "outputId": "45f868cb-9838-487e-8a2a-a49843f0346d"
      },
      "source": [
        "#prioritas\n",
        "nilai1 = (1 - 0.3) * 100\n",
        "print(nilai1)"
      ],
      "execution_count": null,
      "outputs": [
        {
          "output_type": "stream",
          "name": "stdout",
          "text": [
            "70.0\n"
          ]
        }
      ]
    },
    {
      "cell_type": "code",
      "metadata": {
        "id": "alQjGZSiQJ6z"
      },
      "source": [],
      "execution_count": null,
      "outputs": []
    },
    {
      "cell_type": "code",
      "metadata": {
        "colab": {
          "base_uri": "https://localhost:8080/"
        },
        "id": "Upcha766PJjt",
        "outputId": "ecc9f044-9ed3-49a3-87f8-d3ae8d7a6c44"
      },
      "source": [
        "nilai = (3 + 2) ** 2 + (4 + 4) / 2 % 4\n",
        "print(nilai)"
      ],
      "execution_count": null,
      "outputs": [
        {
          "output_type": "stream",
          "name": "stdout",
          "text": [
            "25.0\n"
          ]
        }
      ]
    },
    {
      "cell_type": "code",
      "metadata": {
        "id": "xgUpeyxnPR26"
      },
      "source": [],
      "execution_count": null,
      "outputs": []
    }
  ]
}