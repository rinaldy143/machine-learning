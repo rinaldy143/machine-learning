{
 "cells": [
  {
   "cell_type": "code",
   "execution_count": 1,
   "metadata": {},
   "outputs": [],
   "source": [
    "# first neural network with keras tutorial\n",
    "#sumber: https://machinelearningmastery.com/tutorial-first-neural-network-python-keras/\n",
    "#data: https://raw.githubusercontent.com/jbrownlee/Datasets/master/pima-indians-diabetes.data.csv\n",
    "#penjelasan data: https://raw.githubusercontent.com/jbrownlee/Datasets/master/pima-indians-diabetes.names"
   ]
  },
  {
   "cell_type": "code",
   "execution_count": 2,
   "metadata": {},
   "outputs": [],
   "source": [
    "#install library keras, jika blm ada\n",
    "#!pip install keras"
   ]
  },
  {
   "cell_type": "code",
   "execution_count": 3,
   "metadata": {},
   "outputs": [],
   "source": [
    "#import library\n",
    "from numpy import loadtxt\n",
    "import tensorflow as tf\n",
    "from tensorflow import keras"
   ]
  },
  {
   "cell_type": "code",
   "execution_count": 4,
   "metadata": {},
   "outputs": [
    {
     "data": {
      "text/plain": [
       "array([[  6.   , 148.   ,  72.   , ...,   0.627,  50.   ,   1.   ],\n",
       "       [  1.   ,  85.   ,  66.   , ...,   0.351,  31.   ,   0.   ],\n",
       "       [  8.   , 183.   ,  64.   , ...,   0.672,  32.   ,   1.   ],\n",
       "       ...,\n",
       "       [  5.   , 121.   ,  72.   , ...,   0.245,  30.   ,   0.   ],\n",
       "       [  1.   , 126.   ,  60.   , ...,   0.349,  47.   ,   1.   ],\n",
       "       [  1.   ,  93.   ,  70.   , ...,   0.315,  23.   ,   0.   ]])"
      ]
     },
     "execution_count": 4,
     "metadata": {},
     "output_type": "execute_result"
    }
   ],
   "source": [
    "# load the dataset\n",
    "dataset = loadtxt('pima-indians-diabetes.data.csv', delimiter=',')\n",
    "dataset"
   ]
  },
  {
   "cell_type": "code",
   "execution_count": 5,
   "metadata": {},
   "outputs": [
    {
     "data": {
      "text/plain": [
       "(768, 9)"
      ]
     },
     "execution_count": 5,
     "metadata": {},
     "output_type": "execute_result"
    }
   ],
   "source": [
    "type(dataset)\n",
    "dataset.shape"
   ]
  },
  {
   "cell_type": "code",
   "execution_count": 6,
   "metadata": {},
   "outputs": [],
   "source": [
    "# split into input (X) and output (y) variables\n",
    "X = dataset[:,0:8]\n",
    "y = dataset[:,8]"
   ]
  },
  {
   "cell_type": "code",
   "execution_count": 7,
   "metadata": {},
   "outputs": [
    {
     "data": {
      "text/plain": [
       "array([[  6.   , 148.   ,  72.   , ...,  33.6  ,   0.627,  50.   ],\n",
       "       [  1.   ,  85.   ,  66.   , ...,  26.6  ,   0.351,  31.   ],\n",
       "       [  8.   , 183.   ,  64.   , ...,  23.3  ,   0.672,  32.   ],\n",
       "       ...,\n",
       "       [  5.   , 121.   ,  72.   , ...,  26.2  ,   0.245,  30.   ],\n",
       "       [  1.   , 126.   ,  60.   , ...,  30.1  ,   0.349,  47.   ],\n",
       "       [  1.   ,  93.   ,  70.   , ...,  30.4  ,   0.315,  23.   ]])"
      ]
     },
     "execution_count": 7,
     "metadata": {},
     "output_type": "execute_result"
    }
   ],
   "source": [
    "X"
   ]
  },
  {
   "cell_type": "code",
   "execution_count": 8,
   "metadata": {},
   "outputs": [
    {
     "data": {
      "text/plain": [
       "array([1., 0., 1., 0., 1., 0., 1., 0., 1., 1., 0., 1., 0., 1., 1., 1., 1.,\n",
       "       1., 0., 1., 0., 0., 1., 1., 1., 1., 1., 0., 0., 0., 0., 1., 0., 0.,\n",
       "       0., 0., 0., 1., 1., 1., 0., 0., 0., 1., 0., 1., 0., 0., 1., 0., 0.,\n",
       "       0., 0., 1., 0., 0., 1., 0., 0., 0., 0., 1., 0., 0., 1., 0., 1., 0.,\n",
       "       0., 0., 1., 0., 1., 0., 0., 0., 0., 0., 1., 0., 0., 0., 0., 0., 1.,\n",
       "       0., 0., 0., 1., 0., 0., 0., 0., 1., 0., 0., 0., 0., 0., 1., 1., 0.,\n",
       "       0., 0., 0., 0., 0., 0., 0., 1., 1., 1., 0., 0., 1., 1., 1., 0., 0.,\n",
       "       0., 1., 0., 0., 0., 1., 1., 0., 0., 1., 1., 1., 1., 1., 0., 0., 0.,\n",
       "       0., 0., 0., 0., 0., 0., 0., 1., 0., 0., 0., 0., 0., 0., 0., 0., 1.,\n",
       "       0., 1., 1., 0., 0., 0., 1., 0., 0., 0., 0., 1., 1., 0., 0., 0., 0.,\n",
       "       1., 1., 0., 0., 0., 1., 0., 1., 0., 1., 0., 0., 0., 0., 0., 1., 1.,\n",
       "       1., 1., 1., 0., 0., 1., 1., 0., 1., 0., 1., 1., 1., 0., 0., 0., 0.,\n",
       "       0., 0., 1., 1., 0., 1., 0., 0., 0., 1., 1., 1., 1., 0., 1., 1., 1.,\n",
       "       1., 0., 0., 0., 0., 0., 1., 0., 0., 1., 1., 0., 0., 0., 1., 1., 1.,\n",
       "       1., 0., 0., 0., 1., 1., 0., 1., 0., 0., 0., 0., 0., 0., 0., 0., 1.,\n",
       "       1., 0., 0., 0., 1., 0., 1., 0., 0., 1., 0., 1., 0., 0., 1., 1., 0.,\n",
       "       0., 0., 0., 0., 1., 0., 0., 0., 1., 0., 0., 1., 1., 0., 0., 1., 0.,\n",
       "       0., 0., 1., 1., 1., 0., 0., 1., 0., 1., 0., 1., 1., 0., 1., 0., 0.,\n",
       "       1., 0., 1., 1., 0., 0., 1., 0., 1., 0., 0., 1., 0., 1., 0., 1., 1.,\n",
       "       1., 0., 0., 1., 0., 1., 0., 0., 0., 1., 0., 0., 0., 0., 1., 1., 1.,\n",
       "       0., 0., 0., 0., 0., 0., 0., 0., 0., 1., 0., 0., 0., 0., 0., 1., 1.,\n",
       "       1., 0., 1., 1., 0., 0., 1., 0., 0., 1., 0., 0., 1., 1., 0., 0., 0.,\n",
       "       0., 1., 0., 0., 1., 0., 0., 0., 0., 0., 0., 0., 1., 1., 1., 0., 0.,\n",
       "       1., 0., 0., 1., 0., 0., 1., 0., 1., 1., 0., 1., 0., 1., 0., 1., 0.,\n",
       "       1., 1., 0., 0., 0., 0., 1., 1., 0., 1., 0., 1., 0., 0., 0., 0., 1.,\n",
       "       1., 0., 1., 0., 1., 0., 0., 0., 0., 0., 1., 0., 0., 0., 0., 1., 0.,\n",
       "       0., 1., 1., 1., 0., 0., 1., 0., 0., 1., 0., 0., 0., 1., 0., 0., 1.,\n",
       "       0., 0., 0., 0., 0., 0., 0., 0., 0., 1., 0., 0., 0., 0., 0., 0., 0.,\n",
       "       1., 0., 0., 0., 1., 0., 0., 0., 1., 1., 0., 0., 0., 0., 0., 0., 0.,\n",
       "       1., 0., 0., 0., 0., 1., 0., 0., 0., 1., 0., 0., 0., 1., 0., 0., 0.,\n",
       "       1., 0., 0., 0., 0., 1., 1., 0., 0., 0., 0., 0., 0., 1., 0., 0., 0.,\n",
       "       0., 0., 0., 0., 0., 0., 0., 0., 1., 0., 0., 0., 1., 1., 1., 1., 0.,\n",
       "       0., 1., 1., 0., 0., 0., 0., 0., 0., 0., 0., 0., 0., 0., 0., 0., 1.,\n",
       "       1., 0., 0., 0., 0., 0., 0., 0., 1., 0., 0., 0., 0., 0., 0., 0., 1.,\n",
       "       0., 1., 1., 0., 0., 0., 1., 0., 1., 0., 1., 0., 1., 0., 1., 0., 0.,\n",
       "       1., 0., 0., 1., 0., 0., 0., 0., 1., 1., 0., 1., 0., 0., 0., 0., 1.,\n",
       "       1., 0., 1., 0., 0., 0., 1., 1., 0., 0., 0., 0., 0., 0., 0., 0., 0.,\n",
       "       0., 1., 0., 0., 0., 0., 1., 0., 0., 1., 0., 0., 0., 1., 0., 0., 0.,\n",
       "       1., 1., 1., 0., 0., 0., 0., 0., 0., 1., 0., 0., 0., 1., 0., 1., 1.,\n",
       "       1., 1., 0., 1., 1., 0., 0., 0., 0., 0., 0., 0., 1., 1., 0., 1., 0.,\n",
       "       0., 1., 0., 1., 0., 0., 0., 0., 0., 1., 0., 1., 0., 1., 0., 1., 1.,\n",
       "       0., 0., 0., 0., 1., 1., 0., 0., 0., 1., 0., 1., 1., 0., 0., 1., 0.,\n",
       "       0., 1., 1., 0., 0., 1., 0., 0., 1., 0., 0., 0., 0., 0., 0., 0., 1.,\n",
       "       1., 1., 0., 0., 0., 0., 0., 0., 1., 1., 0., 0., 1., 0., 0., 1., 0.,\n",
       "       1., 1., 1., 0., 0., 1., 1., 1., 0., 1., 0., 1., 0., 1., 0., 0., 0.,\n",
       "       0., 1., 0.])"
      ]
     },
     "execution_count": 8,
     "metadata": {},
     "output_type": "execute_result"
    }
   ],
   "source": [
    "y"
   ]
  },
  {
   "cell_type": "code",
   "execution_count": 9,
   "metadata": {},
   "outputs": [],
   "source": [
    "# define the keras model\n",
    "model = keras.Sequential()\n",
    "model.add(keras.layers.Dense(12, input_dim=8, activation='relu'))\n",
    "model.add(keras.layers.Dense(8, activation='relu'))\n",
    "model.add(keras.layers.Dense(1, activation='sigmoid'))"
   ]
  },
  {
   "cell_type": "code",
   "execution_count": 10,
   "metadata": {},
   "outputs": [],
   "source": [
    "# compile the keras model\n",
    "model.compile(loss='binary_crossentropy', optimizer='adam', metrics=['accuracy'])"
   ]
  },
  {
   "cell_type": "code",
   "execution_count": 11,
   "metadata": {},
   "outputs": [
    {
     "name": "stdout",
     "output_type": "stream",
     "text": [
      "Epoch 1/100\n",
      "77/77 [==============================] - 0s 694us/step - loss: 6.6396 - accuracy: 0.4310\n",
      "Epoch 2/100\n",
      "77/77 [==============================] - 0s 739us/step - loss: 1.1950 - accuracy: 0.5990\n",
      "Epoch 3/100\n",
      "77/77 [==============================] - 0s 672us/step - loss: 0.7243 - accuracy: 0.6432\n",
      "Epoch 4/100\n",
      "77/77 [==============================] - 0s 788us/step - loss: 0.6795 - accuracy: 0.6602\n",
      "Epoch 5/100\n",
      "77/77 [==============================] - 0s 735us/step - loss: 0.6620 - accuracy: 0.6497\n",
      "Epoch 6/100\n",
      "77/77 [==============================] - 0s 796us/step - loss: 0.6543 - accuracy: 0.6523\n",
      "Epoch 7/100\n",
      "77/77 [==============================] - 0s 988us/step - loss: 0.6482 - accuracy: 0.6628\n",
      "Epoch 8/100\n",
      "77/77 [==============================] - 0s 932us/step - loss: 0.6426 - accuracy: 0.6641\n",
      "Epoch 9/100\n",
      "77/77 [==============================] - ETA: 0s - loss: 0.6335 - accuracy: 0.68 - 0s 919us/step - loss: 0.6407 - accuracy: 0.6732\n",
      "Epoch 10/100\n",
      "77/77 [==============================] - 0s 1ms/step - loss: 0.6357 - accuracy: 0.6719\n",
      "Epoch 11/100\n",
      "77/77 [==============================] - 0s 853us/step - loss: 0.6325 - accuracy: 0.6732\n",
      "Epoch 12/100\n",
      "77/77 [==============================] - 0s 866us/step - loss: 0.6309 - accuracy: 0.6810\n",
      "Epoch 13/100\n",
      "77/77 [==============================] - 0s 735us/step - loss: 0.6288 - accuracy: 0.6836\n",
      "Epoch 14/100\n",
      "77/77 [==============================] - 0s 687us/step - loss: 0.6262 - accuracy: 0.6849\n",
      "Epoch 15/100\n",
      "77/77 [==============================] - 0s 709us/step - loss: 0.6235 - accuracy: 0.6888\n",
      "Epoch 16/100\n",
      "77/77 [==============================] - 0s 862us/step - loss: 0.6193 - accuracy: 0.6836\n",
      "Epoch 17/100\n",
      "77/77 [==============================] - 0s 912us/step - loss: 0.6159 - accuracy: 0.6901\n",
      "Epoch 18/100\n",
      "77/77 [==============================] - 0s 655us/step - loss: 0.6142 - accuracy: 0.6862\n",
      "Epoch 19/100\n",
      "77/77 [==============================] - 0s 656us/step - loss: 0.6077 - accuracy: 0.6914\n",
      "Epoch 20/100\n",
      "77/77 [==============================] - 0s 695us/step - loss: 0.6008 - accuracy: 0.7031\n",
      "Epoch 21/100\n",
      "77/77 [==============================] - 0s 635us/step - loss: 0.5920 - accuracy: 0.7161\n",
      "Epoch 22/100\n",
      "77/77 [==============================] - 0s 823us/step - loss: 0.5844 - accuracy: 0.7096\n",
      "Epoch 23/100\n",
      "77/77 [==============================] - 0s 722us/step - loss: 0.5831 - accuracy: 0.7018\n",
      "Epoch 24/100\n",
      "77/77 [==============================] - 0s 625us/step - loss: 0.5780 - accuracy: 0.7096\n",
      "Epoch 25/100\n",
      "77/77 [==============================] - 0s 709us/step - loss: 0.5815 - accuracy: 0.7161\n",
      "Epoch 26/100\n",
      "77/77 [==============================] - 0s 761us/step - loss: 0.5716 - accuracy: 0.7135\n",
      "Epoch 27/100\n",
      "77/77 [==============================] - 0s 648us/step - loss: 0.5715 - accuracy: 0.7070\n",
      "Epoch 28/100\n",
      "77/77 [==============================] - 0s 628us/step - loss: 0.5699 - accuracy: 0.7201\n",
      "Epoch 29/100\n",
      "77/77 [==============================] - 0s 610us/step - loss: 0.5700 - accuracy: 0.7214\n",
      "Epoch 30/100\n",
      "77/77 [==============================] - 0s 741us/step - loss: 0.5644 - accuracy: 0.7174\n",
      "Epoch 31/100\n",
      "77/77 [==============================] - 0s 853us/step - loss: 0.5681 - accuracy: 0.7161\n",
      "Epoch 32/100\n",
      "77/77 [==============================] - 0s 905us/step - loss: 0.5657 - accuracy: 0.7240\n",
      "Epoch 33/100\n",
      "77/77 [==============================] - 0s 971us/step - loss: 0.5661 - accuracy: 0.7227\n",
      "Epoch 34/100\n",
      "77/77 [==============================] - 0s 906us/step - loss: 0.5595 - accuracy: 0.7227\n",
      "Epoch 35/100\n",
      "77/77 [==============================] - 0s 787us/step - loss: 0.5612 - accuracy: 0.7214\n",
      "Epoch 36/100\n",
      "77/77 [==============================] - 0s 735us/step - loss: 0.5609 - accuracy: 0.7279\n",
      "Epoch 37/100\n",
      "77/77 [==============================] - 0s 617us/step - loss: 0.5581 - accuracy: 0.7292\n",
      "Epoch 38/100\n",
      "77/77 [==============================] - 0s 654us/step - loss: 0.5579 - accuracy: 0.7174\n",
      "Epoch 39/100\n",
      "77/77 [==============================] - 0s 689us/step - loss: 0.5589 - accuracy: 0.7279\n",
      "Epoch 40/100\n",
      "77/77 [==============================] - 0s 829us/step - loss: 0.5545 - accuracy: 0.7174\n",
      "Epoch 41/100\n",
      "77/77 [==============================] - 0s 696us/step - loss: 0.5538 - accuracy: 0.7396\n",
      "Epoch 42/100\n",
      "77/77 [==============================] - 0s 701us/step - loss: 0.5517 - accuracy: 0.7370\n",
      "Epoch 43/100\n",
      "77/77 [==============================] - 0s 915us/step - loss: 0.5515 - accuracy: 0.7227\n",
      "Epoch 44/100\n",
      "77/77 [==============================] - 0s 800us/step - loss: 0.5587 - accuracy: 0.7148\n",
      "Epoch 45/100\n",
      "77/77 [==============================] - 0s 704us/step - loss: 0.5526 - accuracy: 0.7292\n",
      "Epoch 46/100\n",
      "77/77 [==============================] - 0s 628us/step - loss: 0.5493 - accuracy: 0.7253\n",
      "Epoch 47/100\n",
      "77/77 [==============================] - 0s 685us/step - loss: 0.5491 - accuracy: 0.7253\n",
      "Epoch 48/100\n",
      "77/77 [==============================] - 0s 656us/step - loss: 0.5513 - accuracy: 0.7370\n",
      "Epoch 49/100\n",
      "77/77 [==============================] - 0s 646us/step - loss: 0.5487 - accuracy: 0.7344\n",
      "Epoch 50/100\n",
      "77/77 [==============================] - 0s 639us/step - loss: 0.5450 - accuracy: 0.7357\n",
      "Epoch 51/100\n",
      "77/77 [==============================] - 0s 717us/step - loss: 0.5450 - accuracy: 0.7279\n",
      "Epoch 52/100\n",
      "77/77 [==============================] - 0s 691us/step - loss: 0.5442 - accuracy: 0.7357\n",
      "Epoch 53/100\n",
      "77/77 [==============================] - 0s 840us/step - loss: 0.5410 - accuracy: 0.7279\n",
      "Epoch 54/100\n",
      "77/77 [==============================] - 0s 710us/step - loss: 0.5394 - accuracy: 0.7383\n",
      "Epoch 55/100\n",
      "77/77 [==============================] - 0s 627us/step - loss: 0.5427 - accuracy: 0.7266\n",
      "Epoch 56/100\n",
      "77/77 [==============================] - 0s 553us/step - loss: 0.5412 - accuracy: 0.7305\n",
      "Epoch 57/100\n",
      "77/77 [==============================] - 0s 588us/step - loss: 0.5426 - accuracy: 0.7305\n",
      "Epoch 58/100\n",
      "77/77 [==============================] - 0s 719us/step - loss: 0.5385 - accuracy: 0.7331\n",
      "Epoch 59/100\n",
      "77/77 [==============================] - 0s 630us/step - loss: 0.5472 - accuracy: 0.7214\n",
      "Epoch 60/100\n",
      "77/77 [==============================] - 0s 594us/step - loss: 0.5395 - accuracy: 0.7435\n",
      "Epoch 61/100\n",
      "77/77 [==============================] - 0s 630us/step - loss: 0.5391 - accuracy: 0.7318\n",
      "Epoch 62/100\n",
      "77/77 [==============================] - 0s 754us/step - loss: 0.5412 - accuracy: 0.7422\n",
      "Epoch 63/100\n",
      "77/77 [==============================] - 0s 613us/step - loss: 0.5354 - accuracy: 0.7435\n",
      "Epoch 64/100\n",
      "77/77 [==============================] - 0s 604us/step - loss: 0.5386 - accuracy: 0.7253\n",
      "Epoch 65/100\n",
      "77/77 [==============================] - 0s 577us/step - loss: 0.5377 - accuracy: 0.7331\n",
      "Epoch 66/100\n",
      "77/77 [==============================] - 0s 658us/step - loss: 0.5339 - accuracy: 0.7370\n",
      "Epoch 67/100\n",
      "77/77 [==============================] - 0s 597us/step - loss: 0.5373 - accuracy: 0.7383\n",
      "Epoch 68/100\n",
      "77/77 [==============================] - 0s 673us/step - loss: 0.5342 - accuracy: 0.7435\n",
      "Epoch 69/100\n",
      "77/77 [==============================] - 0s 588us/step - loss: 0.5334 - accuracy: 0.7383\n",
      "Epoch 70/100\n",
      "77/77 [==============================] - 0s 624us/step - loss: 0.5328 - accuracy: 0.7526\n",
      "Epoch 71/100\n",
      "77/77 [==============================] - 0s 617us/step - loss: 0.5325 - accuracy: 0.7344\n",
      "Epoch 72/100\n",
      "77/77 [==============================] - 0s 611us/step - loss: 0.5309 - accuracy: 0.7396\n",
      "Epoch 73/100\n",
      "77/77 [==============================] - 0s 646us/step - loss: 0.5306 - accuracy: 0.7500\n",
      "Epoch 74/100\n",
      "77/77 [==============================] - 0s 598us/step - loss: 0.5302 - accuracy: 0.7357\n",
      "Epoch 75/100\n",
      "77/77 [==============================] - 0s 656us/step - loss: 0.5257 - accuracy: 0.7513\n",
      "Epoch 76/100\n",
      "77/77 [==============================] - 0s 582us/step - loss: 0.5312 - accuracy: 0.7357\n",
      "Epoch 77/100\n",
      "77/77 [==============================] - 0s 614us/step - loss: 0.5280 - accuracy: 0.7591\n",
      "Epoch 78/100\n",
      "77/77 [==============================] - 0s 617us/step - loss: 0.5282 - accuracy: 0.7370\n",
      "Epoch 79/100\n",
      "77/77 [==============================] - 0s 669us/step - loss: 0.5307 - accuracy: 0.7513\n",
      "Epoch 80/100\n",
      "77/77 [==============================] - 0s 617us/step - loss: 0.5260 - accuracy: 0.7487\n",
      "Epoch 81/100\n"
     ]
    },
    {
     "name": "stdout",
     "output_type": "stream",
     "text": [
      "77/77 [==============================] - 0s 643us/step - loss: 0.5265 - accuracy: 0.7539\n",
      "Epoch 82/100\n",
      "77/77 [==============================] - 0s 684us/step - loss: 0.5264 - accuracy: 0.7409\n",
      "Epoch 83/100\n",
      "77/77 [==============================] - 0s 695us/step - loss: 0.5237 - accuracy: 0.7461\n",
      "Epoch 84/100\n",
      "77/77 [==============================] - 0s 589us/step - loss: 0.5237 - accuracy: 0.7461\n",
      "Epoch 85/100\n",
      "77/77 [==============================] - 0s 564us/step - loss: 0.5238 - accuracy: 0.7474\n",
      "Epoch 86/100\n",
      "77/77 [==============================] - 0s 591us/step - loss: 0.5208 - accuracy: 0.7539\n",
      "Epoch 87/100\n",
      "77/77 [==============================] - 0s 617us/step - loss: 0.5249 - accuracy: 0.7448\n",
      "Epoch 88/100\n",
      "77/77 [==============================] - 0s 612us/step - loss: 0.5255 - accuracy: 0.7500\n",
      "Epoch 89/100\n",
      "77/77 [==============================] - 0s 620us/step - loss: 0.5208 - accuracy: 0.7539\n",
      "Epoch 90/100\n",
      "77/77 [==============================] - 0s 604us/step - loss: 0.5206 - accuracy: 0.7539\n",
      "Epoch 91/100\n",
      "77/77 [==============================] - 0s 735us/step - loss: 0.5232 - accuracy: 0.7422\n",
      "Epoch 92/100\n",
      "77/77 [==============================] - 0s 612us/step - loss: 0.5192 - accuracy: 0.7539\n",
      "Epoch 93/100\n",
      "77/77 [==============================] - 0s 590us/step - loss: 0.5178 - accuracy: 0.7643\n",
      "Epoch 94/100\n",
      "77/77 [==============================] - 0s 587us/step - loss: 0.5222 - accuracy: 0.7422\n",
      "Epoch 95/100\n",
      "77/77 [==============================] - 0s 698us/step - loss: 0.5207 - accuracy: 0.7461\n",
      "Epoch 96/100\n",
      "77/77 [==============================] - 0s 695us/step - loss: 0.5218 - accuracy: 0.7539\n",
      "Epoch 97/100\n",
      "77/77 [==============================] - 0s 602us/step - loss: 0.5158 - accuracy: 0.7539\n",
      "Epoch 98/100\n",
      "77/77 [==============================] - 0s 551us/step - loss: 0.5166 - accuracy: 0.7448\n",
      "Epoch 99/100\n",
      "77/77 [==============================] - 0s 613us/step - loss: 0.5177 - accuracy: 0.7513\n",
      "Epoch 100/100\n",
      "77/77 [==============================] - 0s 577us/step - loss: 0.5155 - accuracy: 0.7513\n"
     ]
    },
    {
     "data": {
      "text/plain": [
       "<keras.callbacks.History at 0x1d19d3414f0>"
      ]
     },
     "execution_count": 11,
     "metadata": {},
     "output_type": "execute_result"
    }
   ],
   "source": [
    "# fit the keras model on the dataset\n",
    "model.fit(X, y, epochs=100, batch_size=10)"
   ]
  },
  {
   "cell_type": "code",
   "execution_count": 12,
   "metadata": {},
   "outputs": [
    {
     "name": "stdout",
     "output_type": "stream",
     "text": [
      "24/24 [==============================] - 0s 694us/step - loss: 0.5077 - accuracy: 0.7513\n",
      "Accuracy: 75.13\n"
     ]
    }
   ],
   "source": [
    "# evaluate the keras model\n",
    "loss, accuracy = model.evaluate(X, y)\n",
    "print('Accuracy: %.2f' % (accuracy*100))"
   ]
  },
  {
   "cell_type": "code",
   "execution_count": 13,
   "metadata": {},
   "outputs": [
    {
     "data": {
      "text/plain": [
       "0.5077398419380188"
      ]
     },
     "execution_count": 13,
     "metadata": {},
     "output_type": "execute_result"
    }
   ],
   "source": [
    "loss"
   ]
  },
  {
   "cell_type": "code",
   "execution_count": 14,
   "metadata": {},
   "outputs": [],
   "source": [
    "#jalankan 10x, simpan akurasi, tampilkan histori akurasi dan rerata akurasi"
   ]
  }
 ],
 "metadata": {
  "kernelspec": {
   "display_name": "Python 3",
   "language": "python",
   "name": "python3"
  },
  "language_info": {
   "codemirror_mode": {
    "name": "ipython",
    "version": 3
   },
   "file_extension": ".py",
   "mimetype": "text/x-python",
   "name": "python",
   "nbconvert_exporter": "python",
   "pygments_lexer": "ipython3",
   "version": "3.8.8"
  }
 },
 "nbformat": 4,
 "nbformat_minor": 4
}
